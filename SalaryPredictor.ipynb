{
 "cells": [
  {
   "cell_type": "code",
   "execution_count": 90,
   "id": "66ff25eb",
   "metadata": {},
   "outputs": [],
   "source": [
    "import warnings\n",
    "\n",
    "import matplotlib.pyplot as plt\n",
    "import pandas as pd\n",
    "import seaborn as sns\n",
    "from sklearn.preprocessing import OneHotEncoder\n",
    "from ipywidgets import Dropdown, FloatSlider, IntSlider, interact\n",
    "from sklearn.impute import SimpleImputer\n",
    "from sklearn.linear_model import LinearRegression, Ridge  # noqa F401\n",
    "from sklearn.metrics import mean_absolute_error\n",
    "from sklearn.pipeline import make_pipeline\n",
    "from sklearn.utils.validation import check_is_fitted\n",
    "\n",
    "warnings.simplefilter(action=\"ignore\", category=FutureWarning)\n"
   ]
  },
  {
   "cell_type": "code",
   "execution_count": 18,
   "id": "0ed452fe",
   "metadata": {},
   "outputs": [],
   "source": [
    "def wrangle(filepath):\n",
    "    df = pd.read_csv(filepath)\n",
    "#Drop null columns\n",
    "    df.drop(columns=[\"Race\",\"Education\"],inplace=True)\n",
    "#Drop low and high cardinality\n",
    "    df.drop(columns=[\"timestamp\",\"company\",\"level\",\"location\",\"tag\",\"gender\",\"otherdetails\"],inplace=True)\n",
    "#Drop Leaky columns\n",
    "#Drop multicollinearity\n",
    "    df.drop(columns=[\"totalyearlycompensation\",\"stockgrantvalue\",\"bonus\",\"cityid\",\"dmaid\",\"rowNumber\",\"Masters_Degree\",\"Bachelors_Degree\",\"Doctorate_Degree\",\"Highschool\",\"Some_College\",\"Race_Asian\",\"Race_White\",\"Race_Two_Or_More\",\"Race_Black\",\"Race_Hispanic\"],inplace=True)\n",
    "    return df\n",
    "  "
   ]
  },
  {
   "cell_type": "code",
   "execution_count": 19,
   "id": "53b87d74",
   "metadata": {},
   "outputs": [],
   "source": [
    "df = wrangle(r\"C:\\Users\\HP\\Desktop\\New folder\\Levels_Fyi_Salary_Data.csv\")"
   ]
  },
  {
   "cell_type": "code",
   "execution_count": 20,
   "id": "3c65a3f5",
   "metadata": {
    "scrolled": true
   },
   "outputs": [
    {
     "data": {
      "text/plain": [
       "<AxesSubplot:>"
      ]
     },
     "execution_count": 20,
     "metadata": {},
     "output_type": "execute_result"
    },
    {
     "data": {
      "image/png": "[encoded data removed]",
      "text/plain": [
       "<Figure size 432x288 with 2 Axes>"
      ]
     },
     "metadata": {
      "needs_background": "light"
     },
     "output_type": "display_data"
    }
   ],
   "source": [
    "corr=df.select_dtypes(\"number\").drop(columns=\"basesalary\").corr()\n",
    "sns.heatmap(corr)"
   ]
  },
  {
   "cell_type": "code",
   "execution_count": 42,
   "id": "c515fcb5",
   "metadata": {},
   "outputs": [
    {
     "data": {
      "text/plain": [
       "array(['Product Manager', 'Software Engineer',\n",
       "       'Software Engineering Manager', 'Data Scientist',\n",
       "       'Solution Architect', 'Technical Program Manager',\n",
       "       'Human Resources', 'Product Designer', 'Marketing',\n",
       "       'Business Analyst', 'Hardware Engineer', 'Sales', 'Recruiter',\n",
       "       'Mechanical Engineer', 'Management Consultant'], dtype=object)"
      ]
     },
     "execution_count": 42,
     "metadata": {},
     "output_type": "execute_result"
    }
   ],
   "source": [
    "df[\"title\"].unique()"
   ]
  },
  {
   "cell_type": "code",
   "execution_count": 17,
   "id": "10c433ce",
   "metadata": {},
   "outputs": [
    {
     "data": {
      "text/html": [
       "<div>\n",
       "<style scoped>\n",
       "    .dataframe tbody tr th:only-of-type {\n",
       "        vertical-align: middle;\n",
       "    }\n",
       "\n",
       "    .dataframe tbody tr th {\n",
       "        vertical-align: top;\n",
       "    }\n",
       "\n",
       "    .dataframe thead th {\n",
       "        text-align: right;\n",
       "    }\n",
       "</style>\n",
       "<table border=\"1\" class=\"dataframe\">\n",
       "  <thead>\n",
       "    <tr style=\"text-align: right;\">\n",
       "      <th></th>\n",
       "      <th>title</th>\n",
       "      <th>totalyearlycompensation</th>\n",
       "      <th>yearsofexperience</th>\n",
       "      <th>yearsatcompany</th>\n",
       "      <th>basesalary</th>\n",
       "      <th>stockgrantvalue</th>\n",
       "      <th>bonus</th>\n",
       "      <th>cityid</th>\n",
       "      <th>dmaid</th>\n",
       "      <th>rowNumber</th>\n",
       "      <th>Masters_Degree</th>\n",
       "      <th>Bachelors_Degree</th>\n",
       "      <th>Doctorate_Degree</th>\n",
       "      <th>Highschool</th>\n",
       "      <th>Some_College</th>\n",
       "      <th>Race_Asian</th>\n",
       "      <th>Race_White</th>\n",
       "      <th>Race_Two_Or_More</th>\n",
       "      <th>Race_Black</th>\n",
       "      <th>Race_Hispanic</th>\n",
       "    </tr>\n",
       "  </thead>\n",
       "  <tbody>\n",
       "    <tr>\n",
       "      <th>0</th>\n",
       "      <td>Product Manager</td>\n",
       "      <td>127000</td>\n",
       "      <td>1.5</td>\n",
       "      <td>1.5</td>\n",
       "      <td>107000.0</td>\n",
       "      <td>20000.0</td>\n",
       "      <td>10000.0</td>\n",
       "      <td>7392</td>\n",
       "      <td>807.0</td>\n",
       "      <td>1</td>\n",
       "      <td>0</td>\n",
       "      <td>0</td>\n",
       "      <td>0</td>\n",
       "      <td>0</td>\n",
       "      <td>0</td>\n",
       "      <td>0</td>\n",
       "      <td>0</td>\n",
       "      <td>0</td>\n",
       "      <td>0</td>\n",
       "      <td>0</td>\n",
       "    </tr>\n",
       "    <tr>\n",
       "      <th>1</th>\n",
       "      <td>Software Engineer</td>\n",
       "      <td>100000</td>\n",
       "      <td>5.0</td>\n",
       "      <td>3.0</td>\n",
       "      <td>0.0</td>\n",
       "      <td>0.0</td>\n",
       "      <td>0.0</td>\n",
       "      <td>7419</td>\n",
       "      <td>807.0</td>\n",
       "      <td>2</td>\n",
       "      <td>0</td>\n",
       "      <td>0</td>\n",
       "      <td>0</td>\n",
       "      <td>0</td>\n",
       "      <td>0</td>\n",
       "      <td>0</td>\n",
       "      <td>0</td>\n",
       "      <td>0</td>\n",
       "      <td>0</td>\n",
       "      <td>0</td>\n",
       "    </tr>\n",
       "    <tr>\n",
       "      <th>2</th>\n",
       "      <td>Product Manager</td>\n",
       "      <td>310000</td>\n",
       "      <td>8.0</td>\n",
       "      <td>0.0</td>\n",
       "      <td>155000.0</td>\n",
       "      <td>0.0</td>\n",
       "      <td>0.0</td>\n",
       "      <td>11527</td>\n",
       "      <td>819.0</td>\n",
       "      <td>3</td>\n",
       "      <td>0</td>\n",
       "      <td>0</td>\n",
       "      <td>0</td>\n",
       "      <td>0</td>\n",
       "      <td>0</td>\n",
       "      <td>0</td>\n",
       "      <td>0</td>\n",
       "      <td>0</td>\n",
       "      <td>0</td>\n",
       "      <td>0</td>\n",
       "    </tr>\n",
       "    <tr>\n",
       "      <th>3</th>\n",
       "      <td>Software Engineering Manager</td>\n",
       "      <td>372000</td>\n",
       "      <td>7.0</td>\n",
       "      <td>5.0</td>\n",
       "      <td>157000.0</td>\n",
       "      <td>180000.0</td>\n",
       "      <td>35000.0</td>\n",
       "      <td>7472</td>\n",
       "      <td>807.0</td>\n",
       "      <td>7</td>\n",
       "      <td>0</td>\n",
       "      <td>0</td>\n",
       "      <td>0</td>\n",
       "      <td>0</td>\n",
       "      <td>0</td>\n",
       "      <td>0</td>\n",
       "      <td>0</td>\n",
       "      <td>0</td>\n",
       "      <td>0</td>\n",
       "      <td>0</td>\n",
       "    </tr>\n",
       "    <tr>\n",
       "      <th>4</th>\n",
       "      <td>Software Engineer</td>\n",
       "      <td>157000</td>\n",
       "      <td>5.0</td>\n",
       "      <td>3.0</td>\n",
       "      <td>0.0</td>\n",
       "      <td>0.0</td>\n",
       "      <td>0.0</td>\n",
       "      <td>7322</td>\n",
       "      <td>807.0</td>\n",
       "      <td>9</td>\n",
       "      <td>0</td>\n",
       "      <td>0</td>\n",
       "      <td>0</td>\n",
       "      <td>0</td>\n",
       "      <td>0</td>\n",
       "      <td>0</td>\n",
       "      <td>0</td>\n",
       "      <td>0</td>\n",
       "      <td>0</td>\n",
       "      <td>0</td>\n",
       "    </tr>\n",
       "  </tbody>\n",
       "</table>\n",
       "</div>"
      ],
      "text/plain": [
       "                          title  totalyearlycompensation  yearsofexperience  \\\n",
       "0               Product Manager                   127000                1.5   \n",
       "1             Software Engineer                   100000                5.0   \n",
       "2               Product Manager                   310000                8.0   \n",
       "3  Software Engineering Manager                   372000                7.0   \n",
       "4             Software Engineer                   157000                5.0   \n",
       "\n",
       "   yearsatcompany  basesalary  stockgrantvalue    bonus  cityid  dmaid  \\\n",
       "0             1.5    107000.0          20000.0  10000.0    7392  807.0   \n",
       "1             3.0         0.0              0.0      0.0    7419  807.0   \n",
       "2             0.0    155000.0              0.0      0.0   11527  819.0   \n",
       "3             5.0    157000.0         180000.0  35000.0    7472  807.0   \n",
       "4             3.0         0.0              0.0      0.0    7322  807.0   \n",
       "\n",
       "   rowNumber  Masters_Degree  Bachelors_Degree  Doctorate_Degree  Highschool  \\\n",
       "0          1               0                 0                 0           0   \n",
       "1          2               0                 0                 0           0   \n",
       "2          3               0                 0                 0           0   \n",
       "3          7               0                 0                 0           0   \n",
       "4          9               0                 0                 0           0   \n",
       "\n",
       "   Some_College  Race_Asian  Race_White  Race_Two_Or_More  Race_Black  \\\n",
       "0             0           0           0                 0           0   \n",
       "1             0           0           0                 0           0   \n",
       "2             0           0           0                 0           0   \n",
       "3             0           0           0                 0           0   \n",
       "4             0           0           0                 0           0   \n",
       "\n",
       "   Race_Hispanic  \n",
       "0              0  \n",
       "1              0  \n",
       "2              0  \n",
       "3              0  \n",
       "4              0  "
      ]
     },
     "execution_count": 17,
     "metadata": {},
     "output_type": "execute_result"
    }
   ],
   "source": [
    "df.head()"
   ]
  },
  {
   "cell_type": "code",
   "execution_count": 21,
   "id": "673fb66b",
   "metadata": {},
   "outputs": [
    {
     "name": "stdout",
     "output_type": "stream",
     "text": [
      "<class 'pandas.core.frame.DataFrame'>\n",
      "RangeIndex: 62642 entries, 0 to 62641\n",
      "Data columns (total 4 columns):\n",
      " #   Column             Non-Null Count  Dtype  \n",
      "---  ------             --------------  -----  \n",
      " 0   title              62642 non-null  object \n",
      " 1   yearsofexperience  62642 non-null  float64\n",
      " 2   yearsatcompany     62642 non-null  float64\n",
      " 3   basesalary         62642 non-null  float64\n",
      "dtypes: float64(3), object(1)\n",
      "memory usage: 1.9+ MB\n"
     ]
    }
   ],
   "source": [
    "df.info()"
   ]
  },
  {
   "cell_type": "code",
   "execution_count": 22,
   "id": "327a229c",
   "metadata": {},
   "outputs": [],
   "source": [
    "#Split Data\n",
    "target =\"basesalary\"\n",
    "features = [\"yearsofexperience\",\"yearsatcompany\",\"title\"]\n",
    "X_train = df[features]\n",
    "y_train = df[target]"
   ]
  },
  {
   "cell_type": "code",
   "execution_count": 23,
   "id": "9d187692",
   "metadata": {},
   "outputs": [
    {
     "name": "stdout",
     "output_type": "stream",
     "text": [
      "mean salary: 136687.28\n",
      "MAE Baseline: 43392.03\n"
     ]
    }
   ],
   "source": [
    "y_mean = y_train.mean()\n",
    "y_pred_baseline = [y_mean]*len(y_train)\n",
    "print(\"mean salary:\",round(y_mean,2))\n",
    "print(\"MAE Baseline:\",round(mean_absolute_error(y_train,y_pred_baseline),2))"
   ]
  },
  {
   "cell_type": "code",
   "execution_count": 47,
   "id": "2a4b391e",
   "metadata": {},
   "outputs": [
    {
     "data": {
      "text/plain": [
       "Pipeline(steps=[('onehotencoder', OneHotEncoder()),\n",
       "                ('simpleimputer', SimpleImputer()),\n",
       "                ('linearregression', LinearRegression())])"
      ]
     },
     "execution_count": 47,
     "metadata": {},
     "output_type": "execute_result"
    }
   ],
   "source": [
    "model = make_pipeline(\n",
    "    OneHotEncoder(),\n",
    "    SimpleImputer(),\n",
    "    LinearRegression()\n",
    ")\n",
    "model.fit(X_train,y_train)"
   ]
  },
  {
   "cell_type": "code",
   "execution_count": 48,
   "id": "ec500d05",
   "metadata": {},
   "outputs": [
    {
     "name": "stdout",
     "output_type": "stream",
     "text": [
      "MAE training: 37903.96\n"
     ]
    }
   ],
   "source": [
    "y_pred_training = model.predict(X_train)\n",
    "print(\"MAE training:\",round(mean_absolute_error(y_train,y_pred_training),2))"
   ]
  },
  {
   "cell_type": "code",
   "execution_count": 50,
   "id": "10c2c9a5",
   "metadata": {},
   "outputs": [
    {
     "data": {
      "text/plain": [
       "152537.46"
      ]
     },
     "execution_count": 50,
     "metadata": {},
     "output_type": "execute_result"
    }
   ],
   "source": [
    "intercept = model.named_steps[\"linearregression\"].intercept_\n",
    "round(intercept,2)"
   ]
  },
  {
   "cell_type": "code",
   "execution_count": 56,
   "id": "9ff069da",
   "metadata": {
    "scrolled": true
   },
   "outputs": [
    {
     "data": {
      "text/plain": [
       "array([-73901.45752067, -64854.37883576, -24146.22281642, -78905.66837286,\n",
       "       -15608.18009822, -70070.97495058, -46213.10098953, -64714.03931227,\n",
       "          220.66710899, -36562.18578637,  56348.71054237, -53890.79810216,\n",
       "       -29119.84625189, -46303.50394479, -55801.4971988 , -37984.109777  ,\n",
       "       -39589.47193662])"
      ]
     },
     "execution_count": 56,
     "metadata": {},
     "output_type": "execute_result"
    }
   ],
   "source": [
    "coefficients = model.named_steps[\"linearregression\"].coef_\n",
    "coefficients[:17]\n"
   ]
  },
  {
   "cell_type": "code",
   "execution_count": 69,
   "id": "62912f8a",
   "metadata": {},
   "outputs": [
    {
     "name": "stdout",
     "output_type": "stream",
     "text": [
      "len of feature names: 161\n",
      "['x0_0.0' 'x0_0.25' 'x0_0.3' 'x0_0.5' 'x0_0.58' 'x0_0.6' 'x0_0.8' 'x0_1.0'\n",
      " 'x0_1.4' 'x0_1.5' 'x0_1.6' 'x0_2.0' 'x0_2.5' 'x0_3.0' 'x0_3.5' 'x0_3.8'\n",
      " 'x0_4.0' 'x0_4.5' 'x0_5.0' 'x0_5.5' 'x0_6.0' 'x0_6.5' 'x0_6.75' 'x0_7.0'\n",
      " 'x0_7.5' 'x0_8.0' 'x0_8.5' 'x0_9.0' 'x0_10.0' 'x0_10.5' 'x0_11.0'\n",
      " 'x0_11.5' 'x0_12.0' 'x0_13.0' 'x0_14.0' 'x0_15.0' 'x0_16.0' 'x0_17.0'\n",
      " 'x0_18.0' 'x0_19.0' 'x0_20.0' 'x0_21.0' 'x0_22.0' 'x0_23.0' 'x0_24.0'\n",
      " 'x0_25.0' 'x0_26.0' 'x0_27.0' 'x0_28.0' 'x0_29.0' 'x0_30.0' 'x0_31.0'\n",
      " 'x0_32.0' 'x0_33.0' 'x0_34.0' 'x0_35.0' 'x0_36.0' 'x0_37.0' 'x0_38.0'\n",
      " 'x0_39.0' 'x0_40.0' 'x0_41.0' 'x0_42.0' 'x0_45.0' 'x0_69.0' 'x1_0.0'\n",
      " 'x1_0.1' 'x1_0.2' 'x1_0.25' 'x1_0.3' 'x1_0.33' 'x1_0.4' 'x1_0.5'\n",
      " 'x1_0.58' 'x1_0.6' 'x1_0.7' 'x1_0.75' 'x1_0.8' 'x1_0.85' 'x1_1.0'\n",
      " 'x1_1.1' 'x1_1.2' 'x1_1.25' 'x1_1.4' 'x1_1.5' 'x1_1.6' 'x1_1.666'\n",
      " 'x1_1.7' 'x1_1.75' 'x1_1.8' 'x1_1.9' 'x1_2.0' 'x1_2.3' 'x1_2.4' 'x1_2.5'\n",
      " 'x1_2.6' 'x1_2.7' 'x1_2.75' 'x1_2.8' 'x1_2.9' 'x1_3.0' 'x1_3.3' 'x1_3.5'\n",
      " 'x1_3.7' 'x1_3.8' 'x1_4.0' 'x1_4.2' 'x1_4.4' 'x1_4.5' 'x1_4.75' 'x1_4.8'\n",
      " 'x1_5.0' 'x1_5.5' 'x1_6.0' 'x1_6.5' 'x1_7.0' 'x1_7.5' 'x1_8.0' 'x1_8.5'\n",
      " 'x1_9.0' 'x1_10.0' 'x1_11.0' 'x1_12.0' 'x1_13.0' 'x1_14.0' 'x1_15.0'\n",
      " 'x1_15.5' 'x1_16.0' 'x1_17.0' 'x1_18.0' 'x1_19.0' 'x1_20.0' 'x1_21.0'\n",
      " 'x1_22.0' 'x1_23.0' 'x1_24.0' 'x1_25.0' 'x1_26.0' 'x1_27.0' 'x1_28.0'\n",
      " 'x1_30.0' 'x1_32.0' 'x1_33.0' 'x1_34.0' 'x1_40.0' 'x1_69.0'\n",
      " 'x2_Business Analyst' 'x2_Data Scientist' 'x2_Hardware Engineer'\n",
      " 'x2_Human Resources' 'x2_Management Consultant' 'x2_Marketing'\n",
      " 'x2_Mechanical Engineer' 'x2_Product Designer' 'x2_Product Manager'\n",
      " 'x2_Recruiter' 'x2_Sales' 'x2_Software Engineer'\n",
      " 'x2_Software Engineering Manager' 'x2_Solution Architect'\n",
      " 'x2_Technical Program Manager']\n"
     ]
    }
   ],
   "source": [
    "feature_names = model.named_steps[\"onehotencoder\"].get_feature_names()\n",
    "print(\"len of feature names:\", len(feature_names))\n",
    "print(feature_names)"
   ]
  },
  {
   "cell_type": "code",
   "execution_count": 70,
   "id": "a81615f5",
   "metadata": {},
   "outputs": [],
   "source": [
    "def make_prediction(experience, atcompany, title):\n",
    "    data = {\n",
    "        \"yearsofexperience\": experience,\n",
    "        \"yearsatcompany\": atcompany,\n",
    "        \"title\": title\n",
    "    }\n",
    "    df = pd.DataFrame(data,index=[0])\n",
    "    prediction = model.predict(df).round(2)[0]\n",
    "    return f\"Predicted apartment price: ${prediction}\""
   ]
  },
  {
   "cell_type": "code",
   "execution_count": 72,
   "id": "8fa74a20",
   "metadata": {},
   "outputs": [
    {
     "data": {
      "application/vnd.jupyter.widget-view+json": {
       "model_id": "9f3d14bbae0e42d1bd6d0a343a767992",
       "version_major": 2,
       "version_minor": 0
      },
      "text/plain": [
       "interactive(children=(IntSlider(value=7, description='experience', max=69), FloatSlider(value=2.70209294083841…"
      ]
     },
     "metadata": {},
     "output_type": "display_data"
    }
   ],
   "source": [
    "interact(\n",
    "    make_prediction(3.0, 2.0, \"Business Analyst\"),\n",
    "    experience=IntSlider(\n",
    "        min=X_train[\"yearsofexperience\"].min(),\n",
    "        max=X_train[\"yearsofexperience\"].max(),\n",
    "        value=X_train[\"yearsofexperience\"].mean(),\n",
    "    ),\n",
    "\n",
    "    atcompany=FloatSlider(\n",
    "        min=X_train[\"yearsatcompany\"].min(),\n",
    "        max=X_train[\"yearsatcompany\"].max(),\n",
    "        step=1.0,\n",
    "        value=X_train[\"yearsatcompany\"].mean(),\n",
    "    ),\n",
    "    title=Dropdown(options=sorted(X_train[\"title\"].unique())),\n",
    ");"
   ]
  },
  {
   "cell_type": "code",
   "execution_count": null,
   "id": "be243791",
   "metadata": {},
   "outputs": [],
   "source": []
  }
 ],
 "metadata": {
  "kernelspec": {
   "display_name": "Python 3 (ipykernel)",
   "language": "python",
   "name": "python3"
  },
  "language_info": {
   "codemirror_mode": {
    "name": "ipython",
    "version": 3
   },
   "file_extension": ".py",
   "mimetype": "text/x-python",
   "name": "python",
   "nbconvert_exporter": "python",
   "pygments_lexer": "ipython3",
   "version": "3.9.7"
  }
 },
 "nbformat": 4,
 "nbformat_minor": 5
}
